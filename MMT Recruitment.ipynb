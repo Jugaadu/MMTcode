{
 "cells": [
  {
   "cell_type": "markdown",
   "metadata": {},
   "source": [
    "# Makemytrip Recruitment Challange by Ideatory.com"
   ]
  },
  {
   "cell_type": "code",
   "execution_count": 1,
   "metadata": {
    "collapsed": true
   },
   "outputs": [],
   "source": [
    "import pandas as pd\n",
    "import numpy as np"
   ]
  },
  {
   "cell_type": "markdown",
   "metadata": {},
   "source": [
    "Read the data"
   ]
  },
  {
   "cell_type": "code",
   "execution_count": 2,
   "metadata": {
    "collapsed": true
   },
   "outputs": [],
   "source": [
    "data = pd.read_csv('AirlinePassengerReview.csv')"
   ]
  },
  {
   "cell_type": "code",
   "execution_count": 7,
   "metadata": {
    "collapsed": true
   },
   "outputs": [
    {
     "data": {
      "text/html": [
       "<div>\n",
       "<table border=\"1\" class=\"dataframe\">\n",
       "  <thead>\n",
       "    <tr style=\"text-align: right;\">\n",
       "      <th></th>\n",
       "      <th>airline_name</th>\n",
       "      <th>Author</th>\n",
       "      <th>Author_country</th>\n",
       "      <th>Date</th>\n",
       "      <th>Review</th>\n",
       "      <th>Aircraft Type</th>\n",
       "      <th>Traveller_Type</th>\n",
       "      <th>Cabin_Flown</th>\n",
       "      <th>Route</th>\n",
       "      <th>Overall_Rating</th>\n",
       "      <th>Seat_Comfort_Rating</th>\n",
       "      <th>Cabin_Staff_Rating</th>\n",
       "      <th>Food_Beverages_Rating</th>\n",
       "      <th>Inflight_Entertainment_Rating</th>\n",
       "      <th>Ground_Service_Rating</th>\n",
       "      <th>Wifi_Connectivity_Rating</th>\n",
       "      <th>Value_Money_Rating</th>\n",
       "      <th>Recommended (1: Yes/ 0: No)</th>\n",
       "    </tr>\n",
       "  </thead>\n",
       "  <tbody>\n",
       "    <tr>\n",
       "      <th>0</th>\n",
       "      <td>adria-airways</td>\n",
       "      <td>D Ito</td>\n",
       "      <td>Germany</td>\n",
       "      <td>10-04-2015</td>\n",
       "      <td>Outbound flight FRA/PRN A319. 2 hours 10 min f...</td>\n",
       "      <td>NaN</td>\n",
       "      <td>NaN</td>\n",
       "      <td>Economy</td>\n",
       "      <td>NaN</td>\n",
       "      <td>7</td>\n",
       "      <td>4</td>\n",
       "      <td>4</td>\n",
       "      <td>4</td>\n",
       "      <td>0</td>\n",
       "      <td>NaN</td>\n",
       "      <td>NaN</td>\n",
       "      <td>4</td>\n",
       "      <td>1</td>\n",
       "    </tr>\n",
       "    <tr>\n",
       "      <th>1</th>\n",
       "      <td>adria-airways</td>\n",
       "      <td>Ron Kuhlmann</td>\n",
       "      <td>United States</td>\n",
       "      <td>05-01-2015</td>\n",
       "      <td>Two short hops ZRH-LJU and LJU-VIE. Very fast ...</td>\n",
       "      <td>NaN</td>\n",
       "      <td>NaN</td>\n",
       "      <td>Business Class</td>\n",
       "      <td>NaN</td>\n",
       "      <td>10</td>\n",
       "      <td>4</td>\n",
       "      <td>5</td>\n",
       "      <td>4</td>\n",
       "      <td>1</td>\n",
       "      <td>NaN</td>\n",
       "      <td>NaN</td>\n",
       "      <td>5</td>\n",
       "      <td>1</td>\n",
       "    </tr>\n",
       "  </tbody>\n",
       "</table>\n",
       "</div>"
      ],
      "text/plain": [
       "    airline_name        Author Author_country        Date  \\\n",
       "0  adria-airways         D Ito        Germany  10-04-2015   \n",
       "1  adria-airways  Ron Kuhlmann  United States  05-01-2015   \n",
       "\n",
       "                                              Review Aircraft Type  \\\n",
       "0  Outbound flight FRA/PRN A319. 2 hours 10 min f...           NaN   \n",
       "1  Two short hops ZRH-LJU and LJU-VIE. Very fast ...           NaN   \n",
       "\n",
       "  Traveller_Type     Cabin_Flown Route  Overall_Rating  Seat_Comfort_Rating  \\\n",
       "0            NaN         Economy   NaN               7                    4   \n",
       "1            NaN  Business Class   NaN              10                    4   \n",
       "\n",
       "   Cabin_Staff_Rating  Food_Beverages_Rating  Inflight_Entertainment_Rating  \\\n",
       "0                   4                      4                              0   \n",
       "1                   5                      4                              1   \n",
       "\n",
       "   Ground_Service_Rating  Wifi_Connectivity_Rating  Value_Money_Rating  \\\n",
       "0                    NaN                       NaN                   4   \n",
       "1                    NaN                       NaN                   5   \n",
       "\n",
       "   Recommended (1: Yes/ 0: No)  \n",
       "0                            1  \n",
       "1                            1  "
      ]
     },
     "execution_count": 7,
     "metadata": {},
     "output_type": "execute_result"
    }
   ],
   "source": [
    "data[:2]"
   ]
  },
  {
   "cell_type": "code",
   "execution_count": 10,
   "metadata": {
    "collapsed": true
   },
   "outputs": [],
   "source": [
    "reviews = data['Review'].values\n",
    "data = data.drop('Review',1)"
   ]
  },
  {
   "cell_type": "code",
   "execution_count": 11,
   "metadata": {
    "collapsed": false
   },
   "outputs": [
    {
     "data": {
      "text/html": [
       "<div>\n",
       "<table border=\"1\" class=\"dataframe\">\n",
       "  <thead>\n",
       "    <tr style=\"text-align: right;\">\n",
       "      <th></th>\n",
       "      <th>airline_name</th>\n",
       "      <th>Author</th>\n",
       "      <th>Author_country</th>\n",
       "      <th>Date</th>\n",
       "      <th>Aircraft Type</th>\n",
       "      <th>Traveller_Type</th>\n",
       "      <th>Cabin_Flown</th>\n",
       "      <th>Route</th>\n",
       "      <th>Overall_Rating</th>\n",
       "      <th>Seat_Comfort_Rating</th>\n",
       "      <th>Cabin_Staff_Rating</th>\n",
       "      <th>Food_Beverages_Rating</th>\n",
       "      <th>Inflight_Entertainment_Rating</th>\n",
       "      <th>Ground_Service_Rating</th>\n",
       "      <th>Wifi_Connectivity_Rating</th>\n",
       "      <th>Value_Money_Rating</th>\n",
       "      <th>Recommended (1: Yes/ 0: No)</th>\n",
       "    </tr>\n",
       "  </thead>\n",
       "  <tbody>\n",
       "    <tr>\n",
       "      <th>0</th>\n",
       "      <td>adria-airways</td>\n",
       "      <td>D Ito</td>\n",
       "      <td>Germany</td>\n",
       "      <td>10-04-2015</td>\n",
       "      <td>NaN</td>\n",
       "      <td>NaN</td>\n",
       "      <td>Economy</td>\n",
       "      <td>NaN</td>\n",
       "      <td>7</td>\n",
       "      <td>4</td>\n",
       "      <td>4</td>\n",
       "      <td>4</td>\n",
       "      <td>0</td>\n",
       "      <td>NaN</td>\n",
       "      <td>NaN</td>\n",
       "      <td>4</td>\n",
       "      <td>1</td>\n",
       "    </tr>\n",
       "    <tr>\n",
       "      <th>1</th>\n",
       "      <td>adria-airways</td>\n",
       "      <td>Ron Kuhlmann</td>\n",
       "      <td>United States</td>\n",
       "      <td>05-01-2015</td>\n",
       "      <td>NaN</td>\n",
       "      <td>NaN</td>\n",
       "      <td>Business Class</td>\n",
       "      <td>NaN</td>\n",
       "      <td>10</td>\n",
       "      <td>4</td>\n",
       "      <td>5</td>\n",
       "      <td>4</td>\n",
       "      <td>1</td>\n",
       "      <td>NaN</td>\n",
       "      <td>NaN</td>\n",
       "      <td>5</td>\n",
       "      <td>1</td>\n",
       "    </tr>\n",
       "  </tbody>\n",
       "</table>\n",
       "</div>"
      ],
      "text/plain": [
       "    airline_name        Author Author_country        Date Aircraft Type  \\\n",
       "0  adria-airways         D Ito        Germany  10-04-2015           NaN   \n",
       "1  adria-airways  Ron Kuhlmann  United States  05-01-2015           NaN   \n",
       "\n",
       "  Traveller_Type     Cabin_Flown Route  Overall_Rating  Seat_Comfort_Rating  \\\n",
       "0            NaN         Economy   NaN               7                    4   \n",
       "1            NaN  Business Class   NaN              10                    4   \n",
       "\n",
       "   Cabin_Staff_Rating  Food_Beverages_Rating  Inflight_Entertainment_Rating  \\\n",
       "0                   4                      4                              0   \n",
       "1                   5                      4                              1   \n",
       "\n",
       "   Ground_Service_Rating  Wifi_Connectivity_Rating  Value_Money_Rating  \\\n",
       "0                    NaN                       NaN                   4   \n",
       "1                    NaN                       NaN                   5   \n",
       "\n",
       "   Recommended (1: Yes/ 0: No)  \n",
       "0                            1  \n",
       "1                            1  "
      ]
     },
     "execution_count": 11,
     "metadata": {},
     "output_type": "execute_result"
    }
   ],
   "source": [
    "data[:2]"
   ]
  },
  {
   "cell_type": "markdown",
   "metadata": {},
   "source": [
    "Save all variables as featureNames. Assumint the text variables are categorical & replacing them with numeric Ids"
   ]
  },
  {
   "cell_type": "code",
   "execution_count": 16,
   "metadata": {
    "collapsed": false
   },
   "outputs": [
    {
     "name": "stdout",
     "output_type": "stream",
     "text": [
      "Index([u'airline_name', u'Author', u'Author_country', u'Date',\n",
      "       u'Aircraft Type', u'Traveller_Type', u'Cabin_Flown', u'Route',\n",
      "       u'Overall_Rating', u'Seat_Comfort_Rating', u'Cabin_Staff_Rating',\n",
      "       u'Food_Beverages_Rating', u'Inflight_Entertainment_Rating',\n",
      "       u'Ground_Service_Rating', u'Wifi_Connectivity_Rating',\n",
      "       u'Value_Money_Rating'],\n",
      "      dtype='object')\n"
     ]
    }
   ],
   "source": [
    "from sklearn.preprocessing import LabelEncoder\n",
    "featureNames = data.columns[0:-1]\n",
    "print featureNames"
   ]
  },
  {
   "cell_type": "code",
   "execution_count": 18,
   "metadata": {
    "collapsed": false
   },
   "outputs": [
    {
     "name": "stderr",
     "output_type": "stream",
     "text": [
      "F:\\Program files\\Anaconda\\lib\\site-packages\\numpy\\lib\\arraysetops.py:200: FutureWarning: numpy not_equal will not check object identity in the future. The comparison did not return the same result as suggested by the identity (`is`)) and will change.\n",
      "  flag = np.concatenate(([True], aux[1:] != aux[:-1]))\n",
      "F:\\Program files\\Anaconda\\lib\\site-packages\\numpy\\lib\\arraysetops.py:259: FutureWarning: numpy equal will not check object identity in the future. The comparison did not return the same result as suggested by the identity (`is`)) and will change.\n",
      "  return aux[:-1][aux[1:] == aux[:-1]]\n"
     ]
    }
   ],
   "source": [
    "le = LabelEncoder()\n",
    "for c in featureNames:\n",
    "    if data[c].dtype.name == 'object':\n",
    "        le.fit(data[c])\n",
    "        data[c] = le.transform(data[c]).astype(int)\n",
    "\n",
    "data = data.fillna(0)"
   ]
  },
  {
   "cell_type": "code",
   "execution_count": 19,
   "metadata": {
    "collapsed": false
   },
   "outputs": [
    {
     "data": {
      "text/html": [
       "<div>\n",
       "<table border=\"1\" class=\"dataframe\">\n",
       "  <thead>\n",
       "    <tr style=\"text-align: right;\">\n",
       "      <th></th>\n",
       "      <th>airline_name</th>\n",
       "      <th>Author</th>\n",
       "      <th>Author_country</th>\n",
       "      <th>Date</th>\n",
       "      <th>Aircraft Type</th>\n",
       "      <th>Traveller_Type</th>\n",
       "      <th>Cabin_Flown</th>\n",
       "      <th>Route</th>\n",
       "      <th>Overall_Rating</th>\n",
       "      <th>Seat_Comfort_Rating</th>\n",
       "      <th>Cabin_Staff_Rating</th>\n",
       "      <th>Food_Beverages_Rating</th>\n",
       "      <th>Inflight_Entertainment_Rating</th>\n",
       "      <th>Ground_Service_Rating</th>\n",
       "      <th>Wifi_Connectivity_Rating</th>\n",
       "      <th>Value_Money_Rating</th>\n",
       "      <th>Recommended (1: Yes/ 0: No)</th>\n",
       "    </tr>\n",
       "  </thead>\n",
       "  <tbody>\n",
       "    <tr>\n",
       "      <th>0</th>\n",
       "      <td>0</td>\n",
       "      <td>6138</td>\n",
       "      <td>55</td>\n",
       "      <td>703</td>\n",
       "      <td>0</td>\n",
       "      <td>0</td>\n",
       "      <td>2</td>\n",
       "      <td>0</td>\n",
       "      <td>7</td>\n",
       "      <td>4</td>\n",
       "      <td>4</td>\n",
       "      <td>4</td>\n",
       "      <td>0</td>\n",
       "      <td>0</td>\n",
       "      <td>0</td>\n",
       "      <td>4</td>\n",
       "      <td>1</td>\n",
       "    </tr>\n",
       "    <tr>\n",
       "      <th>1</th>\n",
       "      <td>0</td>\n",
       "      <td>24495</td>\n",
       "      <td>150</td>\n",
       "      <td>301</td>\n",
       "      <td>0</td>\n",
       "      <td>0</td>\n",
       "      <td>1</td>\n",
       "      <td>0</td>\n",
       "      <td>10</td>\n",
       "      <td>4</td>\n",
       "      <td>5</td>\n",
       "      <td>4</td>\n",
       "      <td>1</td>\n",
       "      <td>0</td>\n",
       "      <td>0</td>\n",
       "      <td>5</td>\n",
       "      <td>1</td>\n",
       "    </tr>\n",
       "  </tbody>\n",
       "</table>\n",
       "</div>"
      ],
      "text/plain": [
       "   airline_name  Author  Author_country  Date  Aircraft Type  Traveller_Type  \\\n",
       "0             0    6138              55   703              0               0   \n",
       "1             0   24495             150   301              0               0   \n",
       "\n",
       "   Cabin_Flown  Route  Overall_Rating  Seat_Comfort_Rating  \\\n",
       "0            2      0               7                    4   \n",
       "1            1      0              10                    4   \n",
       "\n",
       "   Cabin_Staff_Rating  Food_Beverages_Rating  Inflight_Entertainment_Rating  \\\n",
       "0                   4                      4                              0   \n",
       "1                   5                      4                              1   \n",
       "\n",
       "   Ground_Service_Rating  Wifi_Connectivity_Rating  Value_Money_Rating  \\\n",
       "0                      0                         0                   4   \n",
       "1                      0                         0                   5   \n",
       "\n",
       "   Recommended (1: Yes/ 0: No)  \n",
       "0                            1  \n",
       "1                            1  "
      ]
     },
     "execution_count": 19,
     "metadata": {},
     "output_type": "execute_result"
    }
   ],
   "source": [
    "data[:2]"
   ]
  },
  {
   "cell_type": "markdown",
   "metadata": {},
   "source": [
    "Sentiment Analysis of the reviews"
   ]
  },
  {
   "cell_type": "code",
   "execution_count": null,
   "metadata": {
    "collapsed": true
   },
   "outputs": [],
   "source": []
  }
 ],
 "metadata": {
  "kernelspec": {
   "display_name": "Python 2",
   "language": "python",
   "name": "python2"
  },
  "language_info": {
   "codemirror_mode": {
    "name": "ipython",
    "version": 2
   },
   "file_extension": ".py",
   "mimetype": "text/x-python",
   "name": "python",
   "nbconvert_exporter": "python",
   "pygments_lexer": "ipython2",
   "version": "2.7.10"
  }
 },
 "nbformat": 4,
 "nbformat_minor": 0
}

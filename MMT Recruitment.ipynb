{
 "cells": [
  {
   "cell_type": "markdown",
   "metadata": {},
   "source": [
    "# Makemytrip Recruitment Challange by AnalyticsVidya.com"
   ]
  },
  {
   "cell_type": "code",
   "execution_count": 1,
   "metadata": {
    "collapsed": true
   },
   "outputs": [],
   "source": [
    "import pandas as pd\n",
    "import numpy as np"
   ]
  },
  {
   "cell_type": "markdown",
   "metadata": {},
   "source": [
    "Read the data"
   ]
  },
  {
   "cell_type": "code",
   "execution_count": 2,
   "metadata": {
    "collapsed": true
   },
   "outputs": [],
   "source": [
    "data = pd.read_csv('AirlinePassengerReview.csv')"
   ]
  },
  {
   "cell_type": "code",
   "execution_count": 7,
   "metadata": {
    "collapsed": false
   },
   "outputs": [
    {
     "data": {
      "text/html": [
       "<div>\n",
       "<table border=\"1\" class=\"dataframe\">\n",
       "  <thead>\n",
       "    <tr style=\"text-align: right;\">\n",
       "      <th></th>\n",
       "      <th>airline_name</th>\n",
       "      <th>Author</th>\n",
       "      <th>Author_country</th>\n",
       "      <th>Date</th>\n",
       "      <th>Review</th>\n",
       "      <th>Aircraft Type</th>\n",
       "      <th>Traveller_Type</th>\n",
       "      <th>Cabin_Flown</th>\n",
       "      <th>Route</th>\n",
       "      <th>Overall_Rating</th>\n",
       "      <th>Seat_Comfort_Rating</th>\n",
       "      <th>Cabin_Staff_Rating</th>\n",
       "      <th>Food_Beverages_Rating</th>\n",
       "      <th>Inflight_Entertainment_Rating</th>\n",
       "      <th>Ground_Service_Rating</th>\n",
       "      <th>Wifi_Connectivity_Rating</th>\n",
       "      <th>Value_Money_Rating</th>\n",
       "      <th>Recommended (1: Yes/ 0: No)</th>\n",
       "    </tr>\n",
       "  </thead>\n",
       "  <tbody>\n",
       "    <tr>\n",
       "      <th>0</th>\n",
       "      <td>adria-airways</td>\n",
       "      <td>D Ito</td>\n",
       "      <td>Germany</td>\n",
       "      <td>10-04-2015</td>\n",
       "      <td>Outbound flight FRA/PRN A319. 2 hours 10 min f...</td>\n",
       "      <td>NaN</td>\n",
       "      <td>NaN</td>\n",
       "      <td>Economy</td>\n",
       "      <td>NaN</td>\n",
       "      <td>7</td>\n",
       "      <td>4</td>\n",
       "      <td>4</td>\n",
       "      <td>4</td>\n",
       "      <td>0</td>\n",
       "      <td>NaN</td>\n",
       "      <td>NaN</td>\n",
       "      <td>4</td>\n",
       "      <td>1</td>\n",
       "    </tr>\n",
       "    <tr>\n",
       "      <th>1</th>\n",
       "      <td>adria-airways</td>\n",
       "      <td>Ron Kuhlmann</td>\n",
       "      <td>United States</td>\n",
       "      <td>05-01-2015</td>\n",
       "      <td>Two short hops ZRH-LJU and LJU-VIE. Very fast ...</td>\n",
       "      <td>NaN</td>\n",
       "      <td>NaN</td>\n",
       "      <td>Business Class</td>\n",
       "      <td>NaN</td>\n",
       "      <td>10</td>\n",
       "      <td>4</td>\n",
       "      <td>5</td>\n",
       "      <td>4</td>\n",
       "      <td>1</td>\n",
       "      <td>NaN</td>\n",
       "      <td>NaN</td>\n",
       "      <td>5</td>\n",
       "      <td>1</td>\n",
       "    </tr>\n",
       "  </tbody>\n",
       "</table>\n",
       "</div>"
      ],
      "text/plain": [
       "    airline_name        Author Author_country        Date  \\\n",
       "0  adria-airways         D Ito        Germany  10-04-2015   \n",
       "1  adria-airways  Ron Kuhlmann  United States  05-01-2015   \n",
       "\n",
       "                                              Review Aircraft Type  \\\n",
       "0  Outbound flight FRA/PRN A319. 2 hours 10 min f...           NaN   \n",
       "1  Two short hops ZRH-LJU and LJU-VIE. Very fast ...           NaN   \n",
       "\n",
       "  Traveller_Type     Cabin_Flown Route  Overall_Rating  Seat_Comfort_Rating  \\\n",
       "0            NaN         Economy   NaN               7                    4   \n",
       "1            NaN  Business Class   NaN              10                    4   \n",
       "\n",
       "   Cabin_Staff_Rating  Food_Beverages_Rating  Inflight_Entertainment_Rating  \\\n",
       "0                   4                      4                              0   \n",
       "1                   5                      4                              1   \n",
       "\n",
       "   Ground_Service_Rating  Wifi_Connectivity_Rating  Value_Money_Rating  \\\n",
       "0                    NaN                       NaN                   4   \n",
       "1                    NaN                       NaN                   5   \n",
       "\n",
       "   Recommended (1: Yes/ 0: No)  \n",
       "0                            1  \n",
       "1                            1  "
      ]
     },
     "execution_count": 7,
     "metadata": {},
     "output_type": "execute_result"
    }
   ],
   "source": [
    "data[:2]"
   ]
  },
  {
   "cell_type": "code",
   "execution_count": null,
   "metadata": {
    "collapsed": true
   },
   "outputs": [],
   "source": []
  }
 ],
 "metadata": {
  "kernelspec": {
   "display_name": "Python 2",
   "language": "python",
   "name": "python2"
  },
  "language_info": {
   "codemirror_mode": {
    "name": "ipython",
    "version": 2
   },
   "file_extension": ".py",
   "mimetype": "text/x-python",
   "name": "python",
   "nbconvert_exporter": "python",
   "pygments_lexer": "ipython2",
   "version": "2.7.10"
  }
 },
 "nbformat": 4,
 "nbformat_minor": 0
}
